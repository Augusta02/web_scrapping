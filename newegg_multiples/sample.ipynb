{
 "cells": [
  {
   "cell_type": "code",
   "execution_count": 45,
   "metadata": {},
   "outputs": [],
   "source": [
    "import requests\n",
    "from bs4 import BeautifulSoup\n",
    "import pandas as pd\n",
    "import re\n"
   ]
  },
  {
   "cell_type": "code",
   "execution_count": 50,
   "metadata": {},
   "outputs": [],
   "source": [
    "info = []\n",
    "\n",
    "for i in range(1, 16):\n",
    "    url= f\"https://www.newegg.com/PS5-Systems/SubCategory/ID-3762/Page-{i}\"\n",
    "    response = requests.get(url)\n",
    "    soup= BeautifulSoup(response.content, 'html.parser')\n",
    "    items = soup.find('div', class_='item-cells-wrap border-cells items-grid-view four-cells expulsion-one-cell')\n",
    "\n",
    "    for item in items:\n",
    "        title = item.find('a', class_='item-title').get_text()\n",
    "        price = item.find('li', class_='price-current').get_text()[:7]\n",
    "\n",
    "\n",
    "        ship_type= item.find('li', class_='price-ship').get_text()\n",
    "        product_discount = item.find('span', class_= 'price-save-percent')\n",
    "        discount = 'NaN' if product_discount == None else product_discount.get_text()\n",
    "\n",
    "        info.append([title, price, ship_type, discount])\n",
    "        "
   ]
  },
  {
   "cell_type": "code",
   "execution_count": 41,
   "metadata": {},
   "outputs": [],
   "source": [
    "df = pd.DataFrame(info, columns= ['Product_Name', 'Price', 'Shippment Type', 'Discount'])"
   ]
  },
  {
   "cell_type": "code",
   "execution_count": 42,
   "metadata": {},
   "outputs": [],
   "source": [
    "df.to_csv('products.csv')"
   ]
  },
  {
   "cell_type": "code",
   "execution_count": null,
   "metadata": {},
   "outputs": [],
   "source": [
    "\n"
   ]
  }
 ],
 "metadata": {
  "kernelspec": {
   "display_name": "Python 3.10.5 64-bit",
   "language": "python",
   "name": "python3"
  },
  "language_info": {
   "codemirror_mode": {
    "name": "ipython",
    "version": 3
   },
   "file_extension": ".py",
   "mimetype": "text/x-python",
   "name": "python",
   "nbconvert_exporter": "python",
   "pygments_lexer": "ipython3",
   "version": "3.10.5"
  },
  "orig_nbformat": 4,
  "vscode": {
   "interpreter": {
    "hash": "aee8b7b246df8f9039afb4144a1f6fd8d2ca17a180786b69acc140d282b71a49"
   }
  }
 },
 "nbformat": 4,
 "nbformat_minor": 2
}
